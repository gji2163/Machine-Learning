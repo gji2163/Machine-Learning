

#Import the necessary libraries
import pandas as pd
import numpy as np
from sklearn.preprocessing import LabelEncoder
from sklearn.model_selection import train_test_split
from sklearn.feature_extraction.text import CountVectorizer
from sklearn.naive_bayes import MultinomialNB
from sklearn.metrics import accuracy_score, precision_score, recall_score, f1_score

#Load the dataset
df = pd.read_csv('spam_email.csv')

#Data pre-processing
#Encode the labels
le = LabelEncoder()
df['label'] = le.fit_transform(df['label'])

#Split the data
X = df['message']
y = df['label']
X_train, X_test, y_train, y_test = train_test_split(X, y, test_size=0.2, random_state=42)

#Feature extraction
#Vectorize the data
vect = CountVectorizer()
X_train_vect = vect.fit_transform(X_train)
X_test_vect = vect.transform(X_test)

#Model training
#Train the model
model = MultinomialNB()
model.fit(X_train_vect, y_train)

#Model evaluation
#Make predictions
y_pred = model.predict(X_test_vect)

#Evaluate the model
accuracy = accuracy_score(y_test, y_pred)
precision = precision_score(y_test, y_pred)
recall = recall_score(y_test, y_pred)
f1 = f1_score(y_test, y_pred)

#Print the evaluation metrics
print('Accuracy:', accuracy)
print('Precision:', precision)
print('Recall:', recall)
print('F1 Score:', f1)