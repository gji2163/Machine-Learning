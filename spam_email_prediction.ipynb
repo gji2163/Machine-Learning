{
 "cells": [
  {
   "cell_type": "markdown",
   "id": "82fc62e7",
   "metadata": {},
   "source": [
    "Design a machine learning model to predict whether or not a given email is spam."
   ]
  },
  {
   "cell_type": "code",
   "execution_count": null,
   "id": "f082a8ce",
   "metadata": {},
   "outputs": [],
   "source": [
    "\n",
    "\n",
    "#import necessary libraries\n",
    "import pandas as pd\n",
    "import numpy as np\n",
    "from sklearn.feature_extraction.text import CountVectorizer\n",
    "from sklearn.naive_bayes import MultinomialNB\n",
    "from sklearn.model_selection import train_test_split\n",
    "\n",
    "#load the dataset\n",
    "df = pd.read_csv('spam_data.csv')\n",
    "\n",
    "#create a vectorizer to extract features from emails\n",
    "vectorizer = CountVectorizer()\n",
    "\n",
    "#transform emails into feature vectors\n",
    "X = vectorizer.fit_transform(df['email'])\n",
    "\n",
    "#extract labels\n",
    "y = df['label']\n",
    "\n",
    "#split data into training and test sets\n",
    "X_train, X_test, y_train, y_test = train_test_split(X, y, test_size=0.2, random_state=42)\n",
    "\n",
    "#instantiate a Multinomial Naive Bayes model\n",
    "model = MultinomialNB()\n",
    "\n",
    "#fit the model to the training data\n",
    "model.fit(X_train, y_train)\n",
    "\n",
    "#predict labels for test data\n",
    "y_pred = model.predict(X_test)\n",
    "\n",
    "#calculate accuracy of predictions\n",
    "accuracy = np.mean(y_pred == y_test)\n",
    "\n",
    "print('Model accuracy is: ', accuracy)"
   ]
  }
 ],
 "metadata": {},
 "nbformat": 4,
 "nbformat_minor": 5
}
