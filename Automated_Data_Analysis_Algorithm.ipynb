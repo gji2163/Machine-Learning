{
  "nbformat": 4,
  "nbformat_minor": 0,
  "metadata": {
    "colab": {
      "provenance": [],
      "authorship_tag": "ABX9TyNRITxW7VhsOhxZuQhx1HcH"
    },
    "kernelspec": {
      "name": "python3",
      "display_name": "Python 3"
    },
    "language_info": {
      "name": "python"
    }
  },
  "cells": [
    {
      "cell_type": "markdown",
      "source": [
        "1. Implement a machine learning algorithm that can automatically classify images of different types of animals.\n",
        "2. Implement a web crawler in Python that can crawl through a website and collect data about the different pages on the site.\n",
        "3. Implement a data analysis algorithm that can take a large dataset and find trends in the data."
      ],
      "metadata": {
        "id": "kRsxp9jHJKNq"
      }
    },
    {
      "cell_type": "code",
      "execution_count": null,
      "metadata": {
        "id": "kxUwdeQcIzaz"
      },
      "outputs": [],
      "source": [
        "# Import necessary libraries\n",
        "import numpy as np\n",
        "import pandas as pd\n",
        "import matplotlib.pyplot as plt\n",
        "from sklearn.model_selection import train_test_split\n",
        "from sklearn.ensemble import RandomForestClassifier\n",
        "from sklearn.metrics import classification_report, confusion_matrix\n",
        "\n",
        "# Load the data\n",
        "data = pd.read_csv('animal_data.csv')\n",
        "\n",
        "# Split the data into features (X) and labels (y)\n",
        "X = data.drop('species', axis=1)\n",
        "y = data['species']\n",
        "\n",
        "# Split the data into training and testing sets\n",
        "X_train, X_test, y_train, y_test = train_test_split(X, y, test_size=0.2, random_state=42)\n",
        "\n",
        "# Create a Random Forest Classifier\n",
        "clf = RandomForestClassifier(n_estimators=100, random_state=42)\n",
        "\n",
        "# Train the model on the training data\n",
        "clf.fit(X_train, y_train)\n",
        "\n",
        "# Make predictions on the test data\n",
        "y_pred = clf.predict(X_test)\n",
        "\n",
        "# Evaluate the model\n",
        "print(classification_report(y_test, y_pred))\n",
        "print(confusion_matrix(y_test, y_pred))"
      ]
    },
    {
      "cell_type": "code",
      "source": [
        "# Import necessary libraries\n",
        "import requests\n",
        "from bs4 import BeautifulSoup\n",
        "\n",
        "# Define the URL of the website to crawl\n",
        "url = 'https://example.com'\n",
        "\n",
        "# Make a GET request to fetch the raw HTML content\n",
        "html_content = requests.get(url).text\n",
        "\n",
        "# Parse the html content\n",
        "soup = BeautifulSoup(html_content, \"lxml\")\n",
        "\n",
        "# Get all the links from the website\n",
        "links = soup.find_all('a')\n",
        "\n",
        "# Collect data about the different pages on the site\n",
        "for link in links:\n",
        "    # Get the link's URL\n",
        "    page_url = link.get('href')\n",
        "\n",
        "    # Make a GET request to fetch the raw HTML content\n",
        "    page_html_content = requests.get(page_url).text\n",
        "\n",
        "    # Parse the html content\n",
        "    page_soup = BeautifulSoup(page_html_content, \"lxml\")\n",
        "\n",
        "    # Get the page title\n",
        "    page_title = page_soup.title.string\n",
        "\n",
        "    # Get the page description\n",
        "    page_description = page_soup.find('meta', attrs={'name':'description'})['content']\n",
        "\n",
        "    # Get the page keywords\n",
        "    page_keywords = page_soup.find('meta', attrs={'name':'keywords'})['content']\n",
        "\n",
        "    # Print the data\n",
        "    print(\"URL: {}\".format(page_url))\n",
        "    print(\"Title: {}\".format(page_title))\n",
        "    print(\"Description: {}\".format(page_description))\n",
        "    print(\"Keywords: {}\".format(page_keywords))\n",
        "    print(\"-\"*50)"
      ],
      "metadata": {
        "id": "bDqFOs6KJV4T"
      },
      "execution_count": null,
      "outputs": []
    },
    {
      "cell_type": "code",
      "source": [],
      "metadata": {
        "id": "fBsZ7a-PJZwE"
      },
      "execution_count": null,
      "outputs": []
    }
  ]
}